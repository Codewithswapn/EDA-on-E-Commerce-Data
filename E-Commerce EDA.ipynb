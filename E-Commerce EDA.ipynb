{
 "cells": [
  {
   "cell_type": "markdown",
   "id": "c70ee39d",
   "metadata": {},
   "source": [
    "# Problem Statement"
   ]
  },
  {
   "cell_type": "markdown",
   "id": "2e2af03e",
   "metadata": {},
   "source": [
    "## Today as the competition among marketing companies, retail stores, banks to attract newer customers and maintain the old ones is in its peak, every company is trying to top the chart. An e-commerce retail store has been struggling with customer attrition wherein they want to analyze the rate at which they are losing out their customers and the rate at which they can acquire new customers by identifying different customer segments and take needful actions against them."
   ]
  },
  {
   "cell_type": "markdown",
   "id": "c818059e",
   "metadata": {},
   "source": [
    "## Data Dictionary"
   ]
  },
  {
   "cell_type": "markdown",
   "id": "be0d2a13",
   "metadata": {},
   "source": [
    "### InvoiceNo : Unique Invoice number "
   ]
  },
  {
   "cell_type": "markdown",
   "id": "f344847c",
   "metadata": {},
   "source": [
    "### StockCode : Unique Stock number "
   ]
  },
  {
   "cell_type": "markdown",
   "id": "f08b7aca",
   "metadata": {},
   "source": [
    "### Decription : Despription of the product"
   ]
  },
  {
   "cell_type": "markdown",
   "id": "e475a41f",
   "metadata": {},
   "source": [
    "### Quantity : Order Quantity"
   ]
  },
  {
   "cell_type": "markdown",
   "id": "217555d7",
   "metadata": {},
   "source": [
    "### InvoiceDate : Date of Purchase"
   ]
  },
  {
   "cell_type": "markdown",
   "id": "0d87c6f7",
   "metadata": {},
   "source": [
    "### UnitPrice : Price of 1 unit product"
   ]
  },
  {
   "cell_type": "markdown",
   "id": "0eeacf34",
   "metadata": {},
   "source": [
    "### CustomerID : Unique Customer number"
   ]
  },
  {
   "cell_type": "markdown",
   "id": "eeb81aa1",
   "metadata": {},
   "source": [
    "### Country : Country to ship into"
   ]
  },
  {
   "cell_type": "markdown",
   "id": "7759eab6",
   "metadata": {},
   "source": [
    "## Libraries :"
   ]
  },
  {
   "cell_type": "code",
   "execution_count": 1,
   "id": "e37b6cd9",
   "metadata": {},
   "outputs": [],
   "source": [
    "import matplotlib.pyplot as plt\n",
    "import pandas as pd\n",
    "import seaborn as sns\n",
    "%matplotlib inline\n",
    "import numpy as np\n",
    "from sklearn.model_selection import train_test_split"
   ]
  },
  {
   "cell_type": "markdown",
   "id": "38509b89",
   "metadata": {},
   "source": [
    "## Load data :"
   ]
  },
  {
   "cell_type": "code",
   "execution_count": 2,
   "id": "1ba0eab4",
   "metadata": {},
   "outputs": [],
   "source": [
    "df_data = pd.read_csv('retail_data.csv')"
   ]
  },
  {
   "cell_type": "markdown",
   "id": "47a68b8f",
   "metadata": {},
   "source": [
    "## Checking the data :"
   ]
  },
  {
   "cell_type": "code",
   "execution_count": 3,
   "id": "27b3b541",
   "metadata": {},
   "outputs": [
    {
     "data": {
      "text/plain": [
       "(541909, 8)"
      ]
     },
     "execution_count": 3,
     "metadata": {},
     "output_type": "execute_result"
    }
   ],
   "source": [
    "df_data.shape"
   ]
  },
  {
   "cell_type": "code",
   "execution_count": 4,
   "id": "73410a6a",
   "metadata": {},
   "outputs": [
    {
     "data": {
      "text/plain": [
       "Index(['InvoiceNo', 'StockCode', 'Description', 'Quantity', 'InvoiceDate',\n",
       "       'UnitPrice', 'CustomerID', 'Country'],\n",
       "      dtype='object')"
      ]
     },
     "execution_count": 4,
     "metadata": {},
     "output_type": "execute_result"
    }
   ],
   "source": [
    "df_data.columns"
   ]
  },
  {
   "cell_type": "code",
   "execution_count": 5,
   "id": "1dcb2cee",
   "metadata": {},
   "outputs": [
    {
     "data": {
      "text/html": [
       "<div>\n",
       "<style scoped>\n",
       "    .dataframe tbody tr th:only-of-type {\n",
       "        vertical-align: middle;\n",
       "    }\n",
       "\n",
       "    .dataframe tbody tr th {\n",
       "        vertical-align: top;\n",
       "    }\n",
       "\n",
       "    .dataframe thead th {\n",
       "        text-align: right;\n",
       "    }\n",
       "</style>\n",
       "<table border=\"1\" class=\"dataframe\">\n",
       "  <thead>\n",
       "    <tr style=\"text-align: right;\">\n",
       "      <th></th>\n",
       "      <th>InvoiceNo</th>\n",
       "      <th>StockCode</th>\n",
       "      <th>Description</th>\n",
       "      <th>Quantity</th>\n",
       "      <th>InvoiceDate</th>\n",
       "      <th>UnitPrice</th>\n",
       "      <th>CustomerID</th>\n",
       "      <th>Country</th>\n",
       "    </tr>\n",
       "  </thead>\n",
       "  <tbody>\n",
       "    <tr>\n",
       "      <th>0</th>\n",
       "      <td>536365</td>\n",
       "      <td>85123A</td>\n",
       "      <td>WHITE HANGING HEART T-LIGHT HOLDER</td>\n",
       "      <td>6</td>\n",
       "      <td>12/1/2010 8:26</td>\n",
       "      <td>2.55</td>\n",
       "      <td>17850.0</td>\n",
       "      <td>United Kingdom</td>\n",
       "    </tr>\n",
       "    <tr>\n",
       "      <th>1</th>\n",
       "      <td>536365</td>\n",
       "      <td>71053</td>\n",
       "      <td>WHITE METAL LANTERN</td>\n",
       "      <td>6</td>\n",
       "      <td>12/1/2010 8:26</td>\n",
       "      <td>3.39</td>\n",
       "      <td>17850.0</td>\n",
       "      <td>United Kingdom</td>\n",
       "    </tr>\n",
       "    <tr>\n",
       "      <th>2</th>\n",
       "      <td>536365</td>\n",
       "      <td>84406B</td>\n",
       "      <td>CREAM CUPID HEARTS COAT HANGER</td>\n",
       "      <td>8</td>\n",
       "      <td>12/1/2010 8:26</td>\n",
       "      <td>2.75</td>\n",
       "      <td>17850.0</td>\n",
       "      <td>United Kingdom</td>\n",
       "    </tr>\n",
       "    <tr>\n",
       "      <th>3</th>\n",
       "      <td>536365</td>\n",
       "      <td>84029G</td>\n",
       "      <td>KNITTED UNION FLAG HOT WATER BOTTLE</td>\n",
       "      <td>6</td>\n",
       "      <td>12/1/2010 8:26</td>\n",
       "      <td>3.39</td>\n",
       "      <td>17850.0</td>\n",
       "      <td>United Kingdom</td>\n",
       "    </tr>\n",
       "    <tr>\n",
       "      <th>4</th>\n",
       "      <td>536365</td>\n",
       "      <td>84029E</td>\n",
       "      <td>RED WOOLLY HOTTIE WHITE HEART.</td>\n",
       "      <td>6</td>\n",
       "      <td>12/1/2010 8:26</td>\n",
       "      <td>3.39</td>\n",
       "      <td>17850.0</td>\n",
       "      <td>United Kingdom</td>\n",
       "    </tr>\n",
       "    <tr>\n",
       "      <th>5</th>\n",
       "      <td>536365</td>\n",
       "      <td>22752</td>\n",
       "      <td>SET 7 BABUSHKA NESTING BOXES</td>\n",
       "      <td>2</td>\n",
       "      <td>12/1/2010 8:26</td>\n",
       "      <td>7.65</td>\n",
       "      <td>17850.0</td>\n",
       "      <td>United Kingdom</td>\n",
       "    </tr>\n",
       "    <tr>\n",
       "      <th>6</th>\n",
       "      <td>536365</td>\n",
       "      <td>21730</td>\n",
       "      <td>GLASS STAR FROSTED T-LIGHT HOLDER</td>\n",
       "      <td>6</td>\n",
       "      <td>12/1/2010 8:26</td>\n",
       "      <td>4.25</td>\n",
       "      <td>17850.0</td>\n",
       "      <td>United Kingdom</td>\n",
       "    </tr>\n",
       "    <tr>\n",
       "      <th>7</th>\n",
       "      <td>536366</td>\n",
       "      <td>22633</td>\n",
       "      <td>HAND WARMER UNION JACK</td>\n",
       "      <td>6</td>\n",
       "      <td>12/1/2010 8:28</td>\n",
       "      <td>1.85</td>\n",
       "      <td>17850.0</td>\n",
       "      <td>United Kingdom</td>\n",
       "    </tr>\n",
       "    <tr>\n",
       "      <th>8</th>\n",
       "      <td>536366</td>\n",
       "      <td>22632</td>\n",
       "      <td>HAND WARMER RED POLKA DOT</td>\n",
       "      <td>6</td>\n",
       "      <td>12/1/2010 8:28</td>\n",
       "      <td>1.85</td>\n",
       "      <td>17850.0</td>\n",
       "      <td>United Kingdom</td>\n",
       "    </tr>\n",
       "    <tr>\n",
       "      <th>9</th>\n",
       "      <td>536367</td>\n",
       "      <td>84879</td>\n",
       "      <td>ASSORTED COLOUR BIRD ORNAMENT</td>\n",
       "      <td>32</td>\n",
       "      <td>12/1/2010 8:34</td>\n",
       "      <td>1.69</td>\n",
       "      <td>13047.0</td>\n",
       "      <td>United Kingdom</td>\n",
       "    </tr>\n",
       "  </tbody>\n",
       "</table>\n",
       "</div>"
      ],
      "text/plain": [
       "  InvoiceNo StockCode                          Description  Quantity  \\\n",
       "0    536365    85123A   WHITE HANGING HEART T-LIGHT HOLDER         6   \n",
       "1    536365     71053                  WHITE METAL LANTERN         6   \n",
       "2    536365    84406B       CREAM CUPID HEARTS COAT HANGER         8   \n",
       "3    536365    84029G  KNITTED UNION FLAG HOT WATER BOTTLE         6   \n",
       "4    536365    84029E       RED WOOLLY HOTTIE WHITE HEART.         6   \n",
       "5    536365     22752         SET 7 BABUSHKA NESTING BOXES         2   \n",
       "6    536365     21730    GLASS STAR FROSTED T-LIGHT HOLDER         6   \n",
       "7    536366     22633               HAND WARMER UNION JACK         6   \n",
       "8    536366     22632            HAND WARMER RED POLKA DOT         6   \n",
       "9    536367     84879        ASSORTED COLOUR BIRD ORNAMENT        32   \n",
       "\n",
       "      InvoiceDate  UnitPrice  CustomerID         Country  \n",
       "0  12/1/2010 8:26       2.55     17850.0  United Kingdom  \n",
       "1  12/1/2010 8:26       3.39     17850.0  United Kingdom  \n",
       "2  12/1/2010 8:26       2.75     17850.0  United Kingdom  \n",
       "3  12/1/2010 8:26       3.39     17850.0  United Kingdom  \n",
       "4  12/1/2010 8:26       3.39     17850.0  United Kingdom  \n",
       "5  12/1/2010 8:26       7.65     17850.0  United Kingdom  \n",
       "6  12/1/2010 8:26       4.25     17850.0  United Kingdom  \n",
       "7  12/1/2010 8:28       1.85     17850.0  United Kingdom  \n",
       "8  12/1/2010 8:28       1.85     17850.0  United Kingdom  \n",
       "9  12/1/2010 8:34       1.69     13047.0  United Kingdom  "
      ]
     },
     "execution_count": 5,
     "metadata": {},
     "output_type": "execute_result"
    }
   ],
   "source": [
    "df_data.head(10)"
   ]
  },
  {
   "cell_type": "code",
   "execution_count": 6,
   "id": "538bbc5e",
   "metadata": {},
   "outputs": [
    {
     "name": "stdout",
     "output_type": "stream",
     "text": [
      "<class 'pandas.core.frame.DataFrame'>\n",
      "RangeIndex: 541909 entries, 0 to 541908\n",
      "Data columns (total 8 columns):\n",
      " #   Column       Non-Null Count   Dtype  \n",
      "---  ------       --------------   -----  \n",
      " 0   InvoiceNo    541909 non-null  object \n",
      " 1   StockCode    541909 non-null  object \n",
      " 2   Description  540455 non-null  object \n",
      " 3   Quantity     541909 non-null  int64  \n",
      " 4   InvoiceDate  541909 non-null  object \n",
      " 5   UnitPrice    541909 non-null  float64\n",
      " 6   CustomerID   406829 non-null  float64\n",
      " 7   Country      541909 non-null  object \n",
      "dtypes: float64(2), int64(1), object(5)\n",
      "memory usage: 33.1+ MB\n"
     ]
    }
   ],
   "source": [
    "df_data.info()"
   ]
  },
  {
   "cell_type": "markdown",
   "id": "2ed09a5e",
   "metadata": {},
   "source": [
    "## Data Cleaning :"
   ]
  },
  {
   "cell_type": "markdown",
   "id": "9619630f",
   "metadata": {},
   "source": [
    "## Checking for Missing Values :"
   ]
  },
  {
   "cell_type": "code",
   "execution_count": 7,
   "id": "c0dd91e3",
   "metadata": {},
   "outputs": [
    {
     "data": {
      "text/plain": [
       "InvoiceNo           0\n",
       "StockCode           0\n",
       "Description      1454\n",
       "Quantity            0\n",
       "InvoiceDate         0\n",
       "UnitPrice           0\n",
       "CustomerID     135080\n",
       "Country             0\n",
       "dtype: int64"
      ]
     },
     "execution_count": 7,
     "metadata": {},
     "output_type": "execute_result"
    }
   ],
   "source": [
    "df_data.isnull().sum()"
   ]
  },
  {
   "cell_type": "markdown",
   "id": "3c47e119",
   "metadata": {},
   "source": [
    "#### CustomerID and Description contain null values and are not required to train the model so can be dropped as they cannot/need not be imputed"
   ]
  },
  {
   "cell_type": "code",
   "execution_count": 8,
   "id": "3d6e442f",
   "metadata": {},
   "outputs": [],
   "source": [
    "df_data = df_data.drop(['Description'],axis=1)\n",
    "df_data = df_data.drop(['CustomerID'],axis=1)"
   ]
  },
  {
   "cell_type": "code",
   "execution_count": 9,
   "id": "e0c77583",
   "metadata": {},
   "outputs": [
    {
     "data": {
      "text/plain": [
       "Index(['InvoiceNo', 'StockCode', 'Quantity', 'InvoiceDate', 'UnitPrice',\n",
       "       'Country'],\n",
       "      dtype='object')"
      ]
     },
     "execution_count": 9,
     "metadata": {},
     "output_type": "execute_result"
    }
   ],
   "source": [
    "df_data.columns"
   ]
  },
  {
   "cell_type": "markdown",
   "id": "5d1b4ebe",
   "metadata": {},
   "source": [
    "CustomerID and Description are removed!"
   ]
  },
  {
   "cell_type": "code",
   "execution_count": 10,
   "id": "f1efb728",
   "metadata": {},
   "outputs": [
    {
     "data": {
      "text/plain": [
       "InvoiceNo      0\n",
       "StockCode      0\n",
       "Quantity       0\n",
       "InvoiceDate    0\n",
       "UnitPrice      0\n",
       "Country        0\n",
       "dtype: int64"
      ]
     },
     "execution_count": 10,
     "metadata": {},
     "output_type": "execute_result"
    }
   ],
   "source": [
    "df_data.isnull().sum()"
   ]
  },
  {
   "cell_type": "markdown",
   "id": "4432bf5d",
   "metadata": {},
   "source": [
    "Data set is now free of null values so no need to impute values"
   ]
  },
  {
   "cell_type": "markdown",
   "id": "58b0e035",
   "metadata": {},
   "source": [
    "## Checking Duplicate values"
   ]
  },
  {
   "cell_type": "code",
   "execution_count": 11,
   "id": "e109207a",
   "metadata": {},
   "outputs": [
    {
     "data": {
      "text/plain": [
       "InvoiceNo      541909\n",
       "StockCode      541909\n",
       "Quantity       541909\n",
       "InvoiceDate    541909\n",
       "UnitPrice      541909\n",
       "Country        541909\n",
       "dtype: int64"
      ]
     },
     "execution_count": 11,
     "metadata": {},
     "output_type": "execute_result"
    }
   ],
   "source": [
    "df_data.count(axis=0)"
   ]
  },
  {
   "cell_type": "code",
   "execution_count": 12,
   "id": "08c8ed3b",
   "metadata": {},
   "outputs": [
    {
     "data": {
      "text/plain": [
       "InvoiceNo      25900\n",
       "StockCode       4070\n",
       "Quantity         722\n",
       "InvoiceDate    23260\n",
       "UnitPrice       1630\n",
       "Country           38\n",
       "dtype: int64"
      ]
     },
     "execution_count": 12,
     "metadata": {},
     "output_type": "execute_result"
    }
   ],
   "source": [
    "df_data.nunique(axis=0)"
   ]
  },
  {
   "cell_type": "code",
   "execution_count": 13,
   "id": "0c2af8c2",
   "metadata": {},
   "outputs": [
    {
     "data": {
      "text/html": [
       "<div>\n",
       "<style scoped>\n",
       "    .dataframe tbody tr th:only-of-type {\n",
       "        vertical-align: middle;\n",
       "    }\n",
       "\n",
       "    .dataframe tbody tr th {\n",
       "        vertical-align: top;\n",
       "    }\n",
       "\n",
       "    .dataframe thead th {\n",
       "        text-align: right;\n",
       "    }\n",
       "</style>\n",
       "<table border=\"1\" class=\"dataframe\">\n",
       "  <thead>\n",
       "    <tr style=\"text-align: right;\">\n",
       "      <th></th>\n",
       "      <th>InvoiceNo</th>\n",
       "      <th>StockCode</th>\n",
       "      <th>Quantity</th>\n",
       "      <th>InvoiceDate</th>\n",
       "      <th>UnitPrice</th>\n",
       "      <th>Country</th>\n",
       "    </tr>\n",
       "  </thead>\n",
       "  <tbody>\n",
       "    <tr>\n",
       "      <th>517</th>\n",
       "      <td>536409</td>\n",
       "      <td>21866</td>\n",
       "      <td>1</td>\n",
       "      <td>12/1/2010 11:45</td>\n",
       "      <td>1.25</td>\n",
       "      <td>United Kingdom</td>\n",
       "    </tr>\n",
       "    <tr>\n",
       "      <th>527</th>\n",
       "      <td>536409</td>\n",
       "      <td>22866</td>\n",
       "      <td>1</td>\n",
       "      <td>12/1/2010 11:45</td>\n",
       "      <td>2.10</td>\n",
       "      <td>United Kingdom</td>\n",
       "    </tr>\n",
       "    <tr>\n",
       "      <th>537</th>\n",
       "      <td>536409</td>\n",
       "      <td>22900</td>\n",
       "      <td>1</td>\n",
       "      <td>12/1/2010 11:45</td>\n",
       "      <td>2.95</td>\n",
       "      <td>United Kingdom</td>\n",
       "    </tr>\n",
       "    <tr>\n",
       "      <th>539</th>\n",
       "      <td>536409</td>\n",
       "      <td>22111</td>\n",
       "      <td>1</td>\n",
       "      <td>12/1/2010 11:45</td>\n",
       "      <td>4.95</td>\n",
       "      <td>United Kingdom</td>\n",
       "    </tr>\n",
       "    <tr>\n",
       "      <th>555</th>\n",
       "      <td>536412</td>\n",
       "      <td>22327</td>\n",
       "      <td>1</td>\n",
       "      <td>12/1/2010 11:49</td>\n",
       "      <td>2.95</td>\n",
       "      <td>United Kingdom</td>\n",
       "    </tr>\n",
       "    <tr>\n",
       "      <th>...</th>\n",
       "      <td>...</td>\n",
       "      <td>...</td>\n",
       "      <td>...</td>\n",
       "      <td>...</td>\n",
       "      <td>...</td>\n",
       "      <td>...</td>\n",
       "    </tr>\n",
       "    <tr>\n",
       "      <th>541675</th>\n",
       "      <td>581538</td>\n",
       "      <td>22068</td>\n",
       "      <td>1</td>\n",
       "      <td>12/9/2011 11:34</td>\n",
       "      <td>0.39</td>\n",
       "      <td>United Kingdom</td>\n",
       "    </tr>\n",
       "    <tr>\n",
       "      <th>541689</th>\n",
       "      <td>581538</td>\n",
       "      <td>23318</td>\n",
       "      <td>1</td>\n",
       "      <td>12/9/2011 11:34</td>\n",
       "      <td>2.49</td>\n",
       "      <td>United Kingdom</td>\n",
       "    </tr>\n",
       "    <tr>\n",
       "      <th>541692</th>\n",
       "      <td>581538</td>\n",
       "      <td>22992</td>\n",
       "      <td>1</td>\n",
       "      <td>12/9/2011 11:34</td>\n",
       "      <td>1.95</td>\n",
       "      <td>United Kingdom</td>\n",
       "    </tr>\n",
       "    <tr>\n",
       "      <th>541699</th>\n",
       "      <td>581538</td>\n",
       "      <td>22694</td>\n",
       "      <td>1</td>\n",
       "      <td>12/9/2011 11:34</td>\n",
       "      <td>2.10</td>\n",
       "      <td>United Kingdom</td>\n",
       "    </tr>\n",
       "    <tr>\n",
       "      <th>541701</th>\n",
       "      <td>581538</td>\n",
       "      <td>23343</td>\n",
       "      <td>1</td>\n",
       "      <td>12/9/2011 11:34</td>\n",
       "      <td>2.08</td>\n",
       "      <td>United Kingdom</td>\n",
       "    </tr>\n",
       "  </tbody>\n",
       "</table>\n",
       "<p>5270 rows × 6 columns</p>\n",
       "</div>"
      ],
      "text/plain": [
       "       InvoiceNo StockCode  Quantity      InvoiceDate  UnitPrice  \\\n",
       "517       536409     21866         1  12/1/2010 11:45       1.25   \n",
       "527       536409     22866         1  12/1/2010 11:45       2.10   \n",
       "537       536409     22900         1  12/1/2010 11:45       2.95   \n",
       "539       536409     22111         1  12/1/2010 11:45       4.95   \n",
       "555       536412     22327         1  12/1/2010 11:49       2.95   \n",
       "...          ...       ...       ...              ...        ...   \n",
       "541675    581538     22068         1  12/9/2011 11:34       0.39   \n",
       "541689    581538     23318         1  12/9/2011 11:34       2.49   \n",
       "541692    581538     22992         1  12/9/2011 11:34       1.95   \n",
       "541699    581538     22694         1  12/9/2011 11:34       2.10   \n",
       "541701    581538     23343         1  12/9/2011 11:34       2.08   \n",
       "\n",
       "               Country  \n",
       "517     United Kingdom  \n",
       "527     United Kingdom  \n",
       "537     United Kingdom  \n",
       "539     United Kingdom  \n",
       "555     United Kingdom  \n",
       "...                ...  \n",
       "541675  United Kingdom  \n",
       "541689  United Kingdom  \n",
       "541692  United Kingdom  \n",
       "541699  United Kingdom  \n",
       "541701  United Kingdom  \n",
       "\n",
       "[5270 rows x 6 columns]"
      ]
     },
     "execution_count": 13,
     "metadata": {},
     "output_type": "execute_result"
    }
   ],
   "source": [
    "df_data[df_data.duplicated()]"
   ]
  },
  {
   "cell_type": "code",
   "execution_count": 14,
   "id": "62133c4c",
   "metadata": {},
   "outputs": [],
   "source": [
    "df_data=df_data.drop_duplicates(keep=False)"
   ]
  },
  {
   "cell_type": "code",
   "execution_count": 15,
   "id": "c99d3268",
   "metadata": {},
   "outputs": [],
   "source": [
    "df_data.drop(df_data[df_data[\"Quantity\"]<0].index,inplace=True)\n"
   ]
  },
  {
   "cell_type": "markdown",
   "id": "4f4aee13",
   "metadata": {},
   "source": [
    "### Checking Numerical Columns"
   ]
  },
  {
   "cell_type": "code",
   "execution_count": 16,
   "id": "8a516ff0",
   "metadata": {},
   "outputs": [
    {
     "data": {
      "text/html": [
       "<div>\n",
       "<style scoped>\n",
       "    .dataframe tbody tr th:only-of-type {\n",
       "        vertical-align: middle;\n",
       "    }\n",
       "\n",
       "    .dataframe tbody tr th {\n",
       "        vertical-align: top;\n",
       "    }\n",
       "\n",
       "    .dataframe thead th {\n",
       "        text-align: right;\n",
       "    }\n",
       "</style>\n",
       "<table border=\"1\" class=\"dataframe\">\n",
       "  <thead>\n",
       "    <tr style=\"text-align: right;\">\n",
       "      <th></th>\n",
       "      <th>Quantity</th>\n",
       "      <th>UnitPrice</th>\n",
       "    </tr>\n",
       "  </thead>\n",
       "  <tbody>\n",
       "    <tr>\n",
       "      <th>count</th>\n",
       "      <td>521203.000000</td>\n",
       "      <td>521203.000000</td>\n",
       "    </tr>\n",
       "    <tr>\n",
       "      <th>mean</th>\n",
       "      <td>10.800891</td>\n",
       "      <td>3.885460</td>\n",
       "    </tr>\n",
       "    <tr>\n",
       "      <th>std</th>\n",
       "      <td>158.306316</td>\n",
       "      <td>42.210833</td>\n",
       "    </tr>\n",
       "    <tr>\n",
       "      <th>min</th>\n",
       "      <td>1.000000</td>\n",
       "      <td>-11062.060000</td>\n",
       "    </tr>\n",
       "    <tr>\n",
       "      <th>25%</th>\n",
       "      <td>1.000000</td>\n",
       "      <td>1.250000</td>\n",
       "    </tr>\n",
       "    <tr>\n",
       "      <th>50%</th>\n",
       "      <td>4.000000</td>\n",
       "      <td>2.080000</td>\n",
       "    </tr>\n",
       "    <tr>\n",
       "      <th>75%</th>\n",
       "      <td>12.000000</td>\n",
       "      <td>4.130000</td>\n",
       "    </tr>\n",
       "    <tr>\n",
       "      <th>max</th>\n",
       "      <td>80995.000000</td>\n",
       "      <td>13541.330000</td>\n",
       "    </tr>\n",
       "  </tbody>\n",
       "</table>\n",
       "</div>"
      ],
      "text/plain": [
       "            Quantity      UnitPrice\n",
       "count  521203.000000  521203.000000\n",
       "mean       10.800891       3.885460\n",
       "std       158.306316      42.210833\n",
       "min         1.000000  -11062.060000\n",
       "25%         1.000000       1.250000\n",
       "50%         4.000000       2.080000\n",
       "75%        12.000000       4.130000\n",
       "max     80995.000000   13541.330000"
      ]
     },
     "execution_count": 16,
     "metadata": {},
     "output_type": "execute_result"
    }
   ],
   "source": [
    "df_data.describe()"
   ]
  },
  {
   "cell_type": "markdown",
   "id": "60d8c592",
   "metadata": {},
   "source": [
    "### Checking for outliers"
   ]
  },
  {
   "cell_type": "code",
   "execution_count": 17,
   "id": "6aa85ff5",
   "metadata": {},
   "outputs": [
    {
     "data": {
      "text/plain": [
       "<AxesSubplot:xlabel='UnitPrice', ylabel='Quantity'>"
      ]
     },
     "execution_count": 17,
     "metadata": {},
     "output_type": "execute_result"
    },
    {
     "data": {
      "image/png": "[encoded data removed]",
      "text/plain": [
       "<Figure size 432x288 with 1 Axes>"
      ]
     },
     "metadata": {
      "needs_background": "light"
     },
     "output_type": "display_data"
    }
   ],
   "source": [
    "sns.boxplot(x=\"UnitPrice\",y=\"Quantity\",data=df_data)"
   ]
  },
  {
   "cell_type": "markdown",
   "id": "b8644677",
   "metadata": {},
   "source": [
    "We can see that there are negative values which is not possible so they have to be converted to positive using abs function"
   ]
  },
  {
   "cell_type": "code",
   "execution_count": 18,
   "id": "a17c8c6e",
   "metadata": {},
   "outputs": [],
   "source": [
    "df_data['UnitPrice']=df_data['UnitPrice'].abs()\n",
    "df_data['Quantity']=df_data['Quantity'].abs()"
   ]
  },
  {
   "cell_type": "code",
   "execution_count": 19,
   "id": "7c65ca68",
   "metadata": {},
   "outputs": [
    {
     "data": {
      "text/plain": [
       "<AxesSubplot:xlabel='UnitPrice', ylabel='Quantity'>"
      ]
     },
     "execution_count": 19,
     "metadata": {},
     "output_type": "execute_result"
    },
    {
     "data": {
      "image/png": "[encoded data removed]",
      "text/plain": [
       "<Figure size 432x288 with 1 Axes>"
      ]
     },
     "metadata": {
      "needs_background": "light"
     },
     "output_type": "display_data"
    }
   ],
   "source": [
    "sns.boxplot(x=\"UnitPrice\",y=\"Quantity\",data=df_data)"
   ]
  },
  {
   "cell_type": "code",
   "execution_count": 20,
   "id": "ab213f2b",
   "metadata": {},
   "outputs": [],
   "source": [
    "df_data['Quantity_log']=np.log(df_data['Quantity'])"
   ]
  },
  {
   "cell_type": "code",
   "execution_count": 21,
   "id": "84b9d9e1",
   "metadata": {
    "scrolled": true
   },
   "outputs": [
    {
     "data": {
      "text/plain": [
       "<AxesSubplot:xlabel='UnitPrice', ylabel='Quantity_log'>"
      ]
     },
     "execution_count": 21,
     "metadata": {},
     "output_type": "execute_result"
    },
    {
     "data": {
      "image/png": "[encoded data removed]",
      "text/plain": [
       "<Figure size 432x288 with 1 Axes>"
      ]
     },
     "metadata": {
      "needs_background": "light"
     },
     "output_type": "display_data"
    }
   ],
   "source": [
    "sns.boxplot(x=\"UnitPrice\",y=\"Quantity_log\",data=df_data)"
   ]
  },
  {
   "cell_type": "markdown",
   "id": "51530d9f",
   "metadata": {},
   "source": [
    "## Features:"
   ]
  },
  {
   "cell_type": "markdown",
   "id": "329285bd",
   "metadata": {},
   "source": [
    "#### Categorical : Country"
   ]
  },
  {
   "cell_type": "markdown",
   "id": "a4b92b3f",
   "metadata": {},
   "source": [
    "#### Numerical : Quantity,UnitPrice"
   ]
  },
  {
   "cell_type": "markdown",
   "id": "3f61de47",
   "metadata": {},
   "source": [
    "#### Adding Amount as a numerical feature"
   ]
  },
  {
   "cell_type": "code",
   "execution_count": 22,
   "id": "d8c41450",
   "metadata": {
    "scrolled": true
   },
   "outputs": [
    {
     "data": {
      "text/plain": [
       "<AxesSubplot:title={'center':'Country'}>"
      ]
     },
     "execution_count": 22,
     "metadata": {},
     "output_type": "execute_result"
    },
    {
     "data": {
      "image/png": "[encoded data removed]",
      "text/plain": [
       "<Figure size 432x288 with 1 Axes>"
      ]
     },
     "metadata": {
      "needs_background": "light"
     },
     "output_type": "display_data"
    }
   ],
   "source": [
    "df_data['Country'].value_counts(normalize=True).plot.bar(title='Country')"
   ]
  },
  {
   "cell_type": "code",
   "execution_count": 23,
   "id": "2fe5a9fc",
   "metadata": {},
   "outputs": [],
   "source": [
    "df_data[\"Country\"] = df_data[\"Country\"].astype('category')"
   ]
  },
  {
   "cell_type": "markdown",
   "id": "0fedb213",
   "metadata": {},
   "source": [
    "Maximum number of customers are from United Kingdom so for further analysis we can rule out UK to find attrition."
   ]
  },
  {
   "cell_type": "code",
   "execution_count": 24,
   "id": "6a313b3d",
   "metadata": {},
   "outputs": [
    {
     "data": {
      "text/plain": [
       "<AxesSubplot:xlabel='Country'>"
      ]
     },
     "execution_count": 24,
     "metadata": {},
     "output_type": "execute_result"
    },
    {
     "data": {
      "image/png": "[encoded data removed]",
      "text/plain": [
       "<Figure size 432x288 with 1 Axes>"
      ]
     },
     "metadata": {
      "needs_background": "light"
     },
     "output_type": "display_data"
    }
   ],
   "source": [
    "country_group = df_data.groupby('Country')['InvoiceNo'].count().sort_values()\n",
    "del country_group['United Kingdom']\n",
    "country_group.plot.bar()"
   ]
  },
  {
   "cell_type": "markdown",
   "id": "07bde78c",
   "metadata": {},
   "source": [
    "After UK, maximum number of orders come from Germany,France and EIRE."
   ]
  },
  {
   "cell_type": "code",
   "execution_count": 25,
   "id": "9f0af939",
   "metadata": {},
   "outputs": [
    {
     "data": {
      "text/plain": [
       "<AxesSubplot:xlabel='Country'>"
      ]
     },
     "execution_count": 25,
     "metadata": {},
     "output_type": "execute_result"
    },
    {
     "data": {
      "image/png": "[encoded data removed]",
      "text/plain": [
       "<Figure size 432x288 with 1 Axes>"
      ]
     },
     "metadata": {
      "needs_background": "light"
     },
     "output_type": "display_data"
    }
   ],
   "source": [
    "df_data['Amount']=df_data['Quantity'] * df_data['UnitPrice']\n",
    "country_group = df_data.groupby('Country')['Amount'].count().sort_values()\n",
    "del country_group['United Kingdom']\n",
    "country_group.head(5).plot.bar()"
   ]
  },
  {
   "cell_type": "markdown",
   "id": "b8f5d6ce",
   "metadata": {},
   "source": [
    "These are the bottom 5 countries with least revenue"
   ]
  },
  {
   "cell_type": "markdown",
   "id": "4c42fa83",
   "metadata": {},
   "source": [
    "## We need time format for time related analysis"
   ]
  },
  {
   "cell_type": "code",
   "execution_count": 29,
   "id": "9de84361",
   "metadata": {},
   "outputs": [
    {
     "ename": "TypeError",
     "evalue": "strptime() argument 1 must be str, not Timestamp",
     "output_type": "error",
     "traceback": [
      "\u001b[1;31m---------------------------------------------------------------------------\u001b[0m",
      "\u001b[1;31mTypeError\u001b[0m                                 Traceback (most recent call last)",
      "\u001b[1;32m<ipython-input-29-3cb57420ab41>\u001b[0m in \u001b[0;36m<module>\u001b[1;34m\u001b[0m\n\u001b[0;32m      4\u001b[0m \u001b[0mnew_date\u001b[0m\u001b[1;33m=\u001b[0m\u001b[1;33m[\u001b[0m\u001b[1;33m]\u001b[0m\u001b[1;33m\u001b[0m\u001b[1;33m\u001b[0m\u001b[0m\n\u001b[0;32m      5\u001b[0m \u001b[1;32mfor\u001b[0m \u001b[0mi\u001b[0m \u001b[1;32min\u001b[0m \u001b[0mtime_data\u001b[0m\u001b[1;33m:\u001b[0m\u001b[1;33m\u001b[0m\u001b[1;33m\u001b[0m\u001b[0m\n\u001b[1;32m----> 6\u001b[1;33m     \u001b[0mnew_date\u001b[0m\u001b[1;33m.\u001b[0m\u001b[0mappend\u001b[0m\u001b[1;33m(\u001b[0m\u001b[0mdatetime\u001b[0m\u001b[1;33m.\u001b[0m\u001b[0mstrptime\u001b[0m\u001b[1;33m(\u001b[0m\u001b[0mi\u001b[0m\u001b[1;33m,\u001b[0m \u001b[0mformat_data\u001b[0m\u001b[1;33m)\u001b[0m\u001b[1;33m)\u001b[0m\u001b[1;33m\u001b[0m\u001b[1;33m\u001b[0m\u001b[0m\n\u001b[0m\u001b[0;32m      7\u001b[0m \u001b[0mdf_data\u001b[0m\u001b[1;33m[\u001b[0m\u001b[1;34m'InvoiceDate'\u001b[0m\u001b[1;33m]\u001b[0m\u001b[1;33m=\u001b[0m\u001b[0mnew_date\u001b[0m\u001b[1;33m\u001b[0m\u001b[1;33m\u001b[0m\u001b[0m\n",
      "\u001b[1;31mTypeError\u001b[0m: strptime() argument 1 must be str, not Timestamp"
     ]
    }
   ],
   "source": [
    "from datetime import datetime\n",
    "time_data=df_data['InvoiceDate']\n",
    "format_data = \"%m/%d/%Y %H:%M\"\n",
    "new_date=[]\n",
    "for i in time_data:\n",
    "    new_date.append(datetime.strptime(i, format_data))\n",
    "df_data['InvoiceDate']=new_date"
   ]
  },
  {
   "cell_type": "code",
   "execution_count": 30,
   "id": "46120694",
   "metadata": {},
   "outputs": [],
   "source": [
    "import datetime as dt\n",
    "df_data.insert(loc=2, column='Year', value=df_data.InvoiceDate.dt.year)\n",
    "df_data.insert(loc=3, column='Month', value=df_data.InvoiceDate.dt.month)\n",
    "df_data.insert(loc=4, column='Day', value=(df_data.InvoiceDate.dt.dayofweek)+1)\n",
    "df_data.insert(loc=5, column='Hour', value=df_data.InvoiceDate.dt.hour)"
   ]
  },
  {
   "cell_type": "code",
   "execution_count": 31,
   "id": "a0042815",
   "metadata": {},
   "outputs": [
    {
     "data": {
      "text/html": [
       "<div>\n",
       "<style scoped>\n",
       "    .dataframe tbody tr th:only-of-type {\n",
       "        vertical-align: middle;\n",
       "    }\n",
       "\n",
       "    .dataframe tbody tr th {\n",
       "        vertical-align: top;\n",
       "    }\n",
       "\n",
       "    .dataframe thead th {\n",
       "        text-align: right;\n",
       "    }\n",
       "</style>\n",
       "<table border=\"1\" class=\"dataframe\">\n",
       "  <thead>\n",
       "    <tr style=\"text-align: right;\">\n",
       "      <th></th>\n",
       "      <th>InvoiceNo</th>\n",
       "      <th>StockCode</th>\n",
       "      <th>Year</th>\n",
       "      <th>Month</th>\n",
       "      <th>Day</th>\n",
       "      <th>Hour</th>\n",
       "      <th>Quantity</th>\n",
       "      <th>InvoiceDate</th>\n",
       "      <th>UnitPrice</th>\n",
       "      <th>Country</th>\n",
       "      <th>Quantity_log</th>\n",
       "      <th>Amount</th>\n",
       "    </tr>\n",
       "  </thead>\n",
       "  <tbody>\n",
       "    <tr>\n",
       "      <th>0</th>\n",
       "      <td>536365</td>\n",
       "      <td>85123A</td>\n",
       "      <td>2010</td>\n",
       "      <td>12</td>\n",
       "      <td>3</td>\n",
       "      <td>8</td>\n",
       "      <td>6</td>\n",
       "      <td>2010-12-01 08:26:00</td>\n",
       "      <td>2.55</td>\n",
       "      <td>United Kingdom</td>\n",
       "      <td>1.791759</td>\n",
       "      <td>15.30</td>\n",
       "    </tr>\n",
       "    <tr>\n",
       "      <th>1</th>\n",
       "      <td>536365</td>\n",
       "      <td>71053</td>\n",
       "      <td>2010</td>\n",
       "      <td>12</td>\n",
       "      <td>3</td>\n",
       "      <td>8</td>\n",
       "      <td>6</td>\n",
       "      <td>2010-12-01 08:26:00</td>\n",
       "      <td>3.39</td>\n",
       "      <td>United Kingdom</td>\n",
       "      <td>1.791759</td>\n",
       "      <td>20.34</td>\n",
       "    </tr>\n",
       "    <tr>\n",
       "      <th>2</th>\n",
       "      <td>536365</td>\n",
       "      <td>84406B</td>\n",
       "      <td>2010</td>\n",
       "      <td>12</td>\n",
       "      <td>3</td>\n",
       "      <td>8</td>\n",
       "      <td>8</td>\n",
       "      <td>2010-12-01 08:26:00</td>\n",
       "      <td>2.75</td>\n",
       "      <td>United Kingdom</td>\n",
       "      <td>2.079442</td>\n",
       "      <td>22.00</td>\n",
       "    </tr>\n",
       "    <tr>\n",
       "      <th>3</th>\n",
       "      <td>536365</td>\n",
       "      <td>84029G</td>\n",
       "      <td>2010</td>\n",
       "      <td>12</td>\n",
       "      <td>3</td>\n",
       "      <td>8</td>\n",
       "      <td>6</td>\n",
       "      <td>2010-12-01 08:26:00</td>\n",
       "      <td>3.39</td>\n",
       "      <td>United Kingdom</td>\n",
       "      <td>1.791759</td>\n",
       "      <td>20.34</td>\n",
       "    </tr>\n",
       "    <tr>\n",
       "      <th>4</th>\n",
       "      <td>536365</td>\n",
       "      <td>84029E</td>\n",
       "      <td>2010</td>\n",
       "      <td>12</td>\n",
       "      <td>3</td>\n",
       "      <td>8</td>\n",
       "      <td>6</td>\n",
       "      <td>2010-12-01 08:26:00</td>\n",
       "      <td>3.39</td>\n",
       "      <td>United Kingdom</td>\n",
       "      <td>1.791759</td>\n",
       "      <td>20.34</td>\n",
       "    </tr>\n",
       "  </tbody>\n",
       "</table>\n",
       "</div>"
      ],
      "text/plain": [
       "  InvoiceNo StockCode  Year  Month  Day  Hour  Quantity         InvoiceDate  \\\n",
       "0    536365    85123A  2010     12    3     8         6 2010-12-01 08:26:00   \n",
       "1    536365     71053  2010     12    3     8         6 2010-12-01 08:26:00   \n",
       "2    536365    84406B  2010     12    3     8         8 2010-12-01 08:26:00   \n",
       "3    536365    84029G  2010     12    3     8         6 2010-12-01 08:26:00   \n",
       "4    536365    84029E  2010     12    3     8         6 2010-12-01 08:26:00   \n",
       "\n",
       "   UnitPrice         Country  Quantity_log  Amount  \n",
       "0       2.55  United Kingdom      1.791759   15.30  \n",
       "1       3.39  United Kingdom      1.791759   20.34  \n",
       "2       2.75  United Kingdom      2.079442   22.00  \n",
       "3       3.39  United Kingdom      1.791759   20.34  \n",
       "4       3.39  United Kingdom      1.791759   20.34  "
      ]
     },
     "execution_count": 31,
     "metadata": {},
     "output_type": "execute_result"
    }
   ],
   "source": [
    "df_data.head()"
   ]
  },
  {
   "cell_type": "code",
   "execution_count": 32,
   "id": "0e07cf09",
   "metadata": {},
   "outputs": [
    {
     "data": {
      "text/html": [
       "<div>\n",
       "<style scoped>\n",
       "    .dataframe tbody tr th:only-of-type {\n",
       "        vertical-align: middle;\n",
       "    }\n",
       "\n",
       "    .dataframe tbody tr th {\n",
       "        vertical-align: top;\n",
       "    }\n",
       "\n",
       "    .dataframe thead th {\n",
       "        text-align: right;\n",
       "    }\n",
       "</style>\n",
       "<table border=\"1\" class=\"dataframe\">\n",
       "  <thead>\n",
       "    <tr style=\"text-align: right;\">\n",
       "      <th></th>\n",
       "      <th>InvoiceNo</th>\n",
       "      <th>StockCode</th>\n",
       "      <th>Year</th>\n",
       "      <th>Month</th>\n",
       "      <th>Day</th>\n",
       "      <th>Hour</th>\n",
       "      <th>Quantity</th>\n",
       "      <th>InvoiceDate</th>\n",
       "      <th>UnitPrice</th>\n",
       "      <th>Country</th>\n",
       "      <th>Quantity_log</th>\n",
       "      <th>Amount</th>\n",
       "    </tr>\n",
       "  </thead>\n",
       "  <tbody>\n",
       "    <tr>\n",
       "      <th>0</th>\n",
       "      <td>536365</td>\n",
       "      <td>85123A</td>\n",
       "      <td>2010</td>\n",
       "      <td>12</td>\n",
       "      <td>3</td>\n",
       "      <td>8</td>\n",
       "      <td>6</td>\n",
       "      <td>2010-12-01 08:26:00</td>\n",
       "      <td>2.55</td>\n",
       "      <td>United Kingdom</td>\n",
       "      <td>1.791759</td>\n",
       "      <td>15.30</td>\n",
       "    </tr>\n",
       "    <tr>\n",
       "      <th>1</th>\n",
       "      <td>536365</td>\n",
       "      <td>71053</td>\n",
       "      <td>2010</td>\n",
       "      <td>12</td>\n",
       "      <td>3</td>\n",
       "      <td>8</td>\n",
       "      <td>6</td>\n",
       "      <td>2010-12-01 08:26:00</td>\n",
       "      <td>3.39</td>\n",
       "      <td>United Kingdom</td>\n",
       "      <td>1.791759</td>\n",
       "      <td>20.34</td>\n",
       "    </tr>\n",
       "    <tr>\n",
       "      <th>2</th>\n",
       "      <td>536365</td>\n",
       "      <td>84406B</td>\n",
       "      <td>2010</td>\n",
       "      <td>12</td>\n",
       "      <td>3</td>\n",
       "      <td>8</td>\n",
       "      <td>8</td>\n",
       "      <td>2010-12-01 08:26:00</td>\n",
       "      <td>2.75</td>\n",
       "      <td>United Kingdom</td>\n",
       "      <td>2.079442</td>\n",
       "      <td>22.00</td>\n",
       "    </tr>\n",
       "    <tr>\n",
       "      <th>3</th>\n",
       "      <td>536365</td>\n",
       "      <td>84029G</td>\n",
       "      <td>2010</td>\n",
       "      <td>12</td>\n",
       "      <td>3</td>\n",
       "      <td>8</td>\n",
       "      <td>6</td>\n",
       "      <td>2010-12-01 08:26:00</td>\n",
       "      <td>3.39</td>\n",
       "      <td>United Kingdom</td>\n",
       "      <td>1.791759</td>\n",
       "      <td>20.34</td>\n",
       "    </tr>\n",
       "    <tr>\n",
       "      <th>4</th>\n",
       "      <td>536365</td>\n",
       "      <td>84029E</td>\n",
       "      <td>2010</td>\n",
       "      <td>12</td>\n",
       "      <td>3</td>\n",
       "      <td>8</td>\n",
       "      <td>6</td>\n",
       "      <td>2010-12-01 08:26:00</td>\n",
       "      <td>3.39</td>\n",
       "      <td>United Kingdom</td>\n",
       "      <td>1.791759</td>\n",
       "      <td>20.34</td>\n",
       "    </tr>\n",
       "  </tbody>\n",
       "</table>\n",
       "</div>"
      ],
      "text/plain": [
       "  InvoiceNo StockCode  Year  Month  Day  Hour  Quantity         InvoiceDate  \\\n",
       "0    536365    85123A  2010     12    3     8         6 2010-12-01 08:26:00   \n",
       "1    536365     71053  2010     12    3     8         6 2010-12-01 08:26:00   \n",
       "2    536365    84406B  2010     12    3     8         8 2010-12-01 08:26:00   \n",
       "3    536365    84029G  2010     12    3     8         6 2010-12-01 08:26:00   \n",
       "4    536365    84029E  2010     12    3     8         6 2010-12-01 08:26:00   \n",
       "\n",
       "   UnitPrice         Country  Quantity_log  Amount  \n",
       "0       2.55  United Kingdom      1.791759   15.30  \n",
       "1       3.39  United Kingdom      1.791759   20.34  \n",
       "2       2.75  United Kingdom      2.079442   22.00  \n",
       "3       3.39  United Kingdom      1.791759   20.34  \n",
       "4       3.39  United Kingdom      1.791759   20.34  "
      ]
     },
     "execution_count": 32,
     "metadata": {},
     "output_type": "execute_result"
    }
   ],
   "source": [
    "df_data.head()"
   ]
  },
  {
   "cell_type": "markdown",
   "id": "44138a3f",
   "metadata": {},
   "source": [
    "### Month wise sales"
   ]
  },
  {
   "cell_type": "code",
   "execution_count": 37,
   "id": "18ae492e",
   "metadata": {},
   "outputs": [
    {
     "data": {
      "text/plain": [
       "<AxesSubplot:>"
      ]
     },
     "execution_count": 37,
     "metadata": {},
     "output_type": "execute_result"
    },
    {
     "data": {
      "image/png": "[encoded data removed]",
      "text/plain": [
       "<Figure size 432x288 with 1 Axes>"
      ]
     },
     "metadata": {
      "needs_background": "light"
     },
     "output_type": "display_data"
    }
   ],
   "source": [
    "ax=df_data.groupby('InvoiceNo')['Month'].unique().value_counts().sort_index()\n",
    "ax.plot.bar()"
   ]
  },
  {
   "cell_type": "markdown",
   "id": "f2350061",
   "metadata": {},
   "source": [
    "Most orders take place in November"
   ]
  },
  {
   "cell_type": "markdown",
   "id": "81cb7394",
   "metadata": {},
   "source": [
    "### Day wise sales (Weekly)"
   ]
  },
  {
   "cell_type": "code",
   "execution_count": 38,
   "id": "b69f7754",
   "metadata": {},
   "outputs": [
    {
     "data": {
      "text/plain": [
       "<AxesSubplot:>"
      ]
     },
     "execution_count": 38,
     "metadata": {},
     "output_type": "execute_result"
    },
    {
     "data": {
      "image/png": "[encoded data removed]",
      "text/plain": [
       "<Figure size 432x288 with 1 Axes>"
      ]
     },
     "metadata": {
      "needs_background": "light"
     },
     "output_type": "display_data"
    }
   ],
   "source": [
    "ax=df_data.groupby('InvoiceNo')['Day'].unique().value_counts().sort_index()\n",
    "ax.plot.bar()"
   ]
  },
  {
   "cell_type": "markdown",
   "id": "908c65b8",
   "metadata": {},
   "source": [
    "Most orders take place on thursday"
   ]
  },
  {
   "cell_type": "code",
   "execution_count": null,
   "id": "40a49526",
   "metadata": {},
   "outputs": [],
   "source": []
  }
 ],
 "metadata": {
  "kernelspec": {
   "display_name": "Python 3 (ipykernel)",
   "language": "python",
   "name": "python3"
  },
  "language_info": {
   "codemirror_mode": {
    "name": "ipython",
    "version": 3
   },
   "file_extension": ".py",
   "mimetype": "text/x-python",
   "name": "python",
   "nbconvert_exporter": "python",
   "pygments_lexer": "ipython3",
   "version": "3.9.7"
  }
 },
 "nbformat": 4,
 "nbformat_minor": 5
}
